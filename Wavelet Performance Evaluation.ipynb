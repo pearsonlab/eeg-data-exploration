{
 "cells": [
  {
   "cell_type": "markdown",
   "metadata": {},
   "source": [
    "Imports"
   ]
  },
  {
   "cell_type": "code",
   "execution_count": 1,
   "metadata": {
    "collapsed": false
   },
   "outputs": [
    {
     "name": "stdout",
     "output_type": "stream",
     "text": [
      "Opening raw data file /anaconda/lib/python2.7/examples/MNE-sample-data/MEG/sample/sample_audvis_filt-0-40_raw.fif...\n",
      "    Read a total of 4 projection items:\n",
      "        PCA-v1 (1 x 102)  idle\n",
      "        PCA-v2 (1 x 102)  idle\n",
      "        PCA-v3 (1 x 102)  idle\n",
      "        Average EEG reference (1 x 60)  idle\n",
      "Current compensation grade : 0\n",
      "    Range : 6450 ... 48149 =     42.956 ...   320.665 secs\n",
      "Ready.\n",
      "Reading 0 ... 41699  =      0.000 ...   277.709 secs...\n",
      "[done]\n"
     ]
    }
   ],
   "source": [
    "import mne\n",
    "from mne.datasets import sample\n",
    "data_path = sample.data_path()\n",
    "raw_fname = data_path + '/MEG/sample/sample_audvis_filt-0-40_raw.fif'\n",
    "raw = mne.io.Raw(raw_fname, preload=True)\n",
    "\n",
    "import numpy as np\n",
    "\n",
    "import pywt\n",
    "\n",
    "import csv"
   ]
  },
  {
   "cell_type": "markdown",
   "metadata": {},
   "source": [
    "Function to reconstruct with wavelet basis"
   ]
  },
  {
   "cell_type": "code",
   "execution_count": 2,
   "metadata": {
    "collapsed": true
   },
   "outputs": [],
   "source": [
    "def getSDFromMAD(x):\n",
    "    mad = np.median(abs(x-np.median(x)))\n",
    "    return 1.4826*mad\n",
    "\n",
    "def reconstruct(data, wavelet_type, level, num_sd):\n",
    "    coefs = pywt.wavedec(data, wavelet_type, level=level)\n",
    "    concatenated_coefs = np.concatenate(coefs)\n",
    "    detail_coefs = coefs[1:]\n",
    "    #Get median absolute deviation of detail coefficients\n",
    "    detail_sd_approx = getSDFromMAD(np.concatenate(detail_coefs))\n",
    "    num_detail_coefs = 0;\n",
    "    num_zeroed = 0;\n",
    "    if (len(coefs) > 1):\n",
    "        for i in range(1,len(coefs)):\n",
    "            for j in range(0,len(coefs[i])):\n",
    "                num_detail_coefs += 1;\n",
    "                if (abs(coefs[i][j]) < detail_sd_approx*num_sd):\n",
    "                    coefs[i][j] = 0\n",
    "                    num_zeroed += 1\n",
    "    reconstructed = pywt.waverec(coefs, wavelet_type)\n",
    "    return (reconstructed, concatenated_coefs, num_zeroed)"
   ]
  },
  {
   "cell_type": "markdown",
   "metadata": {},
   "source": [
    "Function to evaluate performance and ratio of coefficients that were zeroed"
   ]
  },
  {
   "cell_type": "code",
   "execution_count": 3,
   "metadata": {
    "collapsed": true
   },
   "outputs": [],
   "source": [
    "def r2stat(y, f):\n",
    "    ybar = np.mean(y)\n",
    "    sstot = np.sum((y - ybar)**2)\n",
    "    ssres = np.sum((y - f)**2)\n",
    "    return 1 - ssres / sstot\n",
    "\n",
    "def evaluate(data, wavelet_type, level, num_sd):\n",
    "    (reconstructed, concatenated_coefs, num_zeroed) = \\\n",
    "        reconstruct(data, wavelet_type, level, num_sd)\n",
    "    reconstructed = reconstructed[0:len(data)]\n",
    "    \n",
    "    num_coefs = len(concatenated_coefs)\n",
    "    ratio_zeroed = float(num_zeroed) / num_coefs\n",
    "    \n",
    "    r2_stat = r2stat(data, reconstructed)\n",
    "    \n",
    "    return(r2_stat, ratio_zeroed)"
   ]
  },
  {
   "cell_type": "markdown",
   "metadata": {},
   "source": [
    "Function to evaluate each wavelet for certain number of standard deviations, store R2 value and ratio zeroed in csv tables."
   ]
  },
  {
   "cell_type": "code",
   "execution_count": 12,
   "metadata": {
    "collapsed": true
   },
   "outputs": [],
   "source": [
    "def getWaveletPerformance(data, file_name):\n",
    "    wavelet_list = ['haar', \n",
    "                'db2', 'db3', 'db5', 'db9', 'db16',\n",
    "                'sym2', 'sym3', 'sym5', 'sym9', 'sym16',\n",
    "                'coif1', 'coif2', 'coif3', 'coif5',\n",
    "                'bior1.3', 'bior2.2', 'bior2.8', 'bior3.1', 'bior3.7', 'bior6.8',\n",
    "                'dmey']\n",
    "    \n",
    "    with open(file_name, 'wb') as f:\n",
    "        writer = csv.writer(f)\n",
    "        writer.writerow(['Wavelet Name','R2, 3 SD', 'R2, 4 SD', 'Ratio Zeroed, 3 SD', 'Ratio Zeroed, 4 SD'])\n",
    "        for wavelet_type in wavelet_list:\n",
    "            (r2_3sd, ratio_zeroed_3sd) = evaluate(data, wavelet_type, None, 3)\n",
    "            (r2_4sd, ratio_zeroed_4sd) = evaluate(data, wavelet_type, None, 4)\n",
    "            writer.writerow([wavelet_type, \n",
    "                             \"%.4f\" % r2_3sd, \n",
    "                             \"%.4f\" % r2_4sd, \n",
    "                             \"%.4f\" % ratio_zeroed_3sd, \n",
    "                             \"%.4f\" % ratio_zeroed_4sd])\n",
    "    \n",
    "    f.close()\n",
    "    \n",
    "    "
   ]
  },
  {
   "cell_type": "markdown",
   "metadata": {},
   "source": [
    "Get EEG data, 10 sec, evaluate wavelet performance"
   ]
  },
  {
   "cell_type": "code",
   "execution_count": 13,
   "metadata": {
    "collapsed": false
   },
   "outputs": [],
   "source": [
    "eeg_channel_data = raw.pick_channels(['EEG 020'], copy=True)\n",
    "start, stop = eeg_channel_data.time_as_index([50, 60])\n",
    "data, times = eeg_channel_data[:, start:stop]\n",
    "data = data[0,:]\n",
    "\n",
    "getWaveletPerformance(data, 'eeg_wavelet_performance.csv')"
   ]
  },
  {
   "cell_type": "markdown",
   "metadata": {},
   "source": [
    "Get MEG data, 10 sec, evaluate wavelet performance"
   ]
  },
  {
   "cell_type": "code",
   "execution_count": 14,
   "metadata": {
    "collapsed": true
   },
   "outputs": [],
   "source": [
    "meg_channel_data = raw.pick_channels(['MEG 0113'], copy=True)\n",
    "start, stop = meg_channel_data.time_as_index([50, 60])\n",
    "data, times = meg_channel_data[:, start:stop]\n",
    "data = data[0,:]\n",
    "\n",
    "getWaveletPerformance(data, 'meg_wavelet_performance.csv')"
   ]
  },
  {
   "cell_type": "markdown",
   "metadata": {},
   "source": [
    "Get EEG data, all time, evaulate wavelet performance"
   ]
  },
  {
   "cell_type": "code",
   "execution_count": 15,
   "metadata": {
    "collapsed": true
   },
   "outputs": [],
   "source": [
    "data, times = eeg_channel_data[:, :]\n",
    "data = data[0,:]\n",
    "\n",
    "getWaveletPerformance(data, 'eeg_wavelet_all_time_performance.csv')"
   ]
  },
  {
   "cell_type": "code",
   "execution_count": null,
   "metadata": {
    "collapsed": true
   },
   "outputs": [],
   "source": []
  }
 ],
 "metadata": {
  "kernelspec": {
   "display_name": "Python 2",
   "language": "python",
   "name": "python2"
  },
  "language_info": {
   "codemirror_mode": {
    "name": "ipython",
    "version": 2
   },
   "file_extension": ".py",
   "mimetype": "text/x-python",
   "name": "python",
   "nbconvert_exporter": "python",
   "pygments_lexer": "ipython2",
   "version": "2.7.10"
  }
 },
 "nbformat": 4,
 "nbformat_minor": 0
}
